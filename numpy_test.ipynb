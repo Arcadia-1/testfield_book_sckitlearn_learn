{
 "cells": [
  {
   "cell_type": "code",
   "execution_count": 169,
   "metadata": {},
   "outputs": [],
   "source": [
    "import numpy as np\n",
    "import matplotlib .pyplot as plt"
   ]
  },
  {
   "cell_type": "code",
   "execution_count": 13,
   "metadata": {},
   "outputs": [],
   "source": [
    "a = np.array([1,2,3,4])\n",
    "b = np.arange(10)\n",
    "c = np.linspace(0,2,100)"
   ]
  },
  {
   "cell_type": "code",
   "execution_count": 8,
   "metadata": {},
   "outputs": [
    {
     "data": {
      "text/plain": [
       "array([127,  91,  53,  91,  81,  48])"
      ]
     },
     "execution_count": 8,
     "metadata": {},
     "output_type": "execute_result"
    }
   ],
   "source": [
    "aa = np.random.randint(10,200,6)\n",
    "aa"
   ]
  },
  {
   "cell_type": "code",
   "execution_count": 21,
   "metadata": {},
   "outputs": [
    {
     "data": {
      "text/plain": [
       "array([[ 0,  1,  2,  3,  4],\n",
       "       [ 5,  6,  7,  8,  9],\n",
       "       [10, 11, 12, 13, 14],\n",
       "       [15, 16, 17, 18, 19]])"
      ]
     },
     "execution_count": 21,
     "metadata": {},
     "output_type": "execute_result"
    }
   ],
   "source": [
    "aa = np.arange(20).reshape(4,5)\n",
    "aa"
   ]
  },
  {
   "cell_type": "code",
   "execution_count": 27,
   "metadata": {},
   "outputs": [
    {
     "data": {
      "text/plain": [
       "array([[ 0,  1,  2,  3,  4],\n",
       "       [10, 11, 12, 13, 14],\n",
       "       [20, 21, 22, 23, 24],\n",
       "       [30, 31, 32, 33, 34],\n",
       "       [40, 41, 42, 43, 44],\n",
       "       [50, 51, 52, 53, 54]])"
      ]
     },
     "execution_count": 27,
     "metadata": {},
     "output_type": "execute_result"
    }
   ],
   "source": [
    "a = np.arange(0,51,10).reshape(6,1)+np.arange(5)\n",
    "a"
   ]
  },
  {
   "cell_type": "code",
   "execution_count": 28,
   "metadata": {},
   "outputs": [
    {
     "data": {
      "text/plain": [
       "array([0, 1, 2, 3, 4])"
      ]
     },
     "execution_count": 28,
     "metadata": {},
     "output_type": "execute_result"
    }
   ],
   "source": [
    "np.arange(5)"
   ]
  },
  {
   "cell_type": "code",
   "execution_count": 53,
   "metadata": {
    "scrolled": true
   },
   "outputs": [
    {
     "data": {
      "text/plain": [
       "array([[ 0,  1,  2,  3,  4,  5,  6,  7,  8,  9, 10, 11, 12, 13, 14, 15,\n",
       "        16, 17, 18, 19, 20, 21, 22, 23, 24],\n",
       "       [10, 11, 12, 13, 14, 15, 16, 17, 18, 19, 20, 21, 22, 23, 24, 25,\n",
       "        26, 27, 28, 29, 30, 31, 32, 33, 34],\n",
       "       [20, 21, 22, 23, 24, 25, 26, 27, 28, 29, 30, 31, 32, 33, 34, 35,\n",
       "        36, 37, 38, 39, 40, 41, 42, 43, 44],\n",
       "       [30, 31, 32, 33, 34, 35, 36, 37, 38, 39, 40, 41, 42, 43, 44, 45,\n",
       "        46, 47, 48, 49, 50, 51, 52, 53, 54],\n",
       "       [40, 41, 42, 43, 44, 45, 46, 47, 48, 49, 50, 51, 52, 53, 54, 55,\n",
       "        56, 57, 58, 59, 60, 61, 62, 63, 64],\n",
       "       [50, 51, 52, 53, 54, 55, 56, 57, 58, 59, 60, 61, 62, 63, 64, 65,\n",
       "        66, 67, 68, 69, 70, 71, 72, 73, 74],\n",
       "       [60, 61, 62, 63, 64, 65, 66, 67, 68, 69, 70, 71, 72, 73, 74, 75,\n",
       "        76, 77, 78, 79, 80, 81, 82, 83, 84]])"
      ]
     },
     "execution_count": 53,
     "metadata": {},
     "output_type": "execute_result"
    }
   ],
   "source": [
    "np.arange(0,61,10).reshape(7,1)+np.arange(25)"
   ]
  },
  {
   "cell_type": "markdown",
   "metadata": {},
   "source": [
    "#### 显式复制"
   ]
  },
  {
   "cell_type": "code",
   "execution_count": 71,
   "metadata": {},
   "outputs": [
    {
     "name": "stdout",
     "output_type": "stream",
     "text": [
      "aa =  [ 3  4  5  6  7  8  9 10 11 12 13 14]\n",
      "bb =  [ 0  1  2  3  4  5  6  7  8  9 10 11]\n"
     ]
    },
    {
     "data": {
      "text/plain": [
       "False"
      ]
     },
     "execution_count": 71,
     "metadata": {},
     "output_type": "execute_result"
    }
   ],
   "source": [
    "aa  =np.arange(12)\n",
    "bb=aa.copy()   \n",
    "aa+=3\n",
    "print('aa = ',aa)\n",
    "print('bb = ',bb)\n",
    "np.may_share_memory(aa,bb)"
   ]
  },
  {
   "cell_type": "markdown",
   "metadata": {},
   "source": [
    "#### Sieve of Eratosthenes"
   ]
  },
  {
   "cell_type": "code",
   "execution_count": 108,
   "metadata": {},
   "outputs": [
    {
     "name": "stdout",
     "output_type": "stream",
     "text": [
      "[  2   3   5   7  11  13  17  19  23  29  31  37  41  43  47  53  59  61\n",
      "  67  71  73  79  83  89  97 101 103 107 109 113 127 131 137 139 149 151\n",
      " 157 163 167 173 179 181 191 193 197 199 211 223 227 229 233 239 241 251\n",
      " 257 263 269 271 277 281 283 293 307 311 313 317 331 337 347 349 353 359\n",
      " 367 373 379 383 389 397 401 409 419 421 431 433 439 443 449 457 461 463\n",
      " 467 479 487 491 499 503 509 521 523 541 547 557 563 569 571 577 587 593\n",
      " 599 601 607 613 617 619 631 641 643 647 653 659 661 673 677 683 691 701\n",
      " 709 719 727 733 739 743 751 757 761 769 773 787 797 809 811 821 823 827\n",
      " 829 839 853 857 859 863 877 881 883 887 907 911 919 929 937 941 947 953\n",
      " 961 967 971 977 983 991 997]\n",
      "30\n"
     ]
    },
    {
     "data": {
      "text/plain": [
       "array([False, False, False, False])"
      ]
     },
     "execution_count": 108,
     "metadata": {},
     "output_type": "execute_result"
    }
   ],
   "source": [
    "a = np.arange(1,1000)\n",
    "n_max = int(np.sqrt(len(a)))\n",
    "is_prime = np.ones(len(a),dtype=bool)\n",
    "is_prime[0]=False\n",
    "\n",
    "for i in range(2,n_max):\n",
    "    if i in a[is_prime]:\n",
    "        is_prime[(i**2-1)::i]=False\n",
    "print(a[is_prime])\n",
    "print(i)\n",
    "is_prime[(i**2-1)::i]"
   ]
  },
  {
   "cell_type": "markdown",
   "metadata": {},
   "source": [
    "#### self written, note that only a[a boolean vector] makes sense "
   ]
  },
  {
   "cell_type": "code",
   "execution_count": 156,
   "metadata": {},
   "outputs": [
    {
     "name": "stdout",
     "output_type": "stream",
     "text": [
      "[  2   3   5   7  11  13  17  19  23  29  31  37  41  43  47  53  59  61\n",
      "  67  71  73  79  83  89  97 101 103 107 109 113 127 131 137 139 149 151\n",
      " 157 163 167 173 179 181 191 193 197 199 211 223 227 229 233 239 241 251\n",
      " 257 263 269 271 277 281 283 293 307 311 313 317 331 337 347 349 353 359\n",
      " 367 373 379 383 389 397 401 409 419 421 431 433 439 443 449 457 461 463\n",
      " 467 479 487 491 499 503 509 521 523 541 547 557 563 569 571 577 587 593\n",
      " 599 601 607 613 617 619 631 641 643 647 653 659 661 673 677 683 691 701\n",
      " 709 719 727 733 739 743 751 757 761 769 773 787 797 809 811 821 823 827\n",
      " 829 839 853 857 859 863 877 881 883 887 907 911 919 929 937 941 947 953\n",
      " 961 967 971 977 983 991 997]\n"
     ]
    }
   ],
   "source": [
    "a = np.arange(1,1001)\n",
    "n_max = int(np.sqrt(len(a)))\n",
    "is_prime=np.ones(len(a),dtype=bool)\n",
    "is_prime[0]=False\n",
    "\n",
    "for i in range(n_max):\n",
    "    if i in a[is_prime]:\n",
    "        is_prime[i**2-1::i] = False\n",
    "\n",
    "print(a[is_prime])"
   ]
  },
  {
   "cell_type": "markdown",
   "metadata": {},
   "source": [
    "### Gambling"
   ]
  },
  {
   "cell_type": "code",
   "execution_count": 271,
   "metadata": {},
   "outputs": [
    {
     "data": {
      "text/plain": [
       "[<matplotlib.lines.Line2D at 0x1c6450a1588>]"
      ]
     },
     "execution_count": 271,
     "metadata": {},
     "output_type": "execute_result"
    },
    {
     "data": {
      "image/png": "[encoded data removed]",
      "text/plain": [
       "<matplotlib.figure.Figure at 0x1c64505a588>"
      ]
     },
     "metadata": {},
     "output_type": "display_data"
    }
   ],
   "source": [
    "n=200\n",
    "times=500\n",
    "t = np.arange(times)\n",
    "\n",
    "steps = 2*np.random.randint(0,2,(n,times))-1\n",
    "\n",
    "amount = np.cumsum(steps,axis=1)**2\n",
    "mean_amount = amount.mean(axis=0)\n",
    "\n",
    "plt.xlabel(r'$t$')\n",
    "plt.ylabel(r'$\\sqrt{\\langle(\\delta x)^2 \\rangle}$')\n",
    "plt.plot(t,np.sqrt(mean_amount),'g-')\n",
    "plt.plot(t,np.sqrt(t),'r-')"
   ]
  },
  {
   "cell_type": "markdown",
   "metadata": {},
   "source": [
    "#### Some methods of reshaping"
   ]
  },
  {
   "cell_type": "code",
   "execution_count": 309,
   "metadata": {},
   "outputs": [
    {
     "name": "stdout",
     "output_type": "stream",
     "text": [
      "[[37  1 97 96 90]\n",
      " [82 10 82 53 76]\n",
      " [83 58 80 13  9]\n",
      " [81  0 59  7 45]]\n",
      "[37  1 97 96 90 82 10 82 53 76 83 58 80 13  9 81  0 59  7 45]\n",
      "[37  1 97 96 90 82 10 82 53 76 83 58 80 13  9 81  0 59  7 45]\n",
      "[[37  1 97 96 90 82 10 82 53 76 83 58 80 13  9 81  0 59  7 45]]\n",
      "[37  1 97 96 90 82 10 82 53 76 83 58 80 13  9 81  0 59  7 45]\n",
      "[[37  1 97 96 90 82 10 82 53 76 83 58 80 13  9 81  0 59  7 45]]\n"
     ]
    }
   ],
   "source": [
    "aa = np.random.randint(0,100,(4,5))\n",
    "print(aa)\n",
    "print(aa.flatten())\n",
    "print(aa.ravel())\n",
    "print(aa.reshape(1,aa.shape[0]*aa.shape[1]))\n",
    "print(aa.reshape(-1))\n",
    "print(aa.reshape(1,-1))"
   ]
  },
  {
   "cell_type": "markdown",
   "metadata": {},
   "source": [
    "### Sort and argsort"
   ]
  },
  {
   "cell_type": "code",
   "execution_count": 320,
   "metadata": {
    "scrolled": true
   },
   "outputs": [
    {
     "name": "stdout",
     "output_type": "stream",
     "text": [
      "[ 0  1  7  9 10 13 37 45 53 58 59 76 80 81 82 82 83 90 96 97] \n",
      " [16  1 18 14  6 13  0 19  8 11 17  9 12 15  5  7 10  4  3  2]\n"
     ]
    }
   ],
   "source": [
    "cc = aa.flatten()\n",
    "dd = np.sort(cc,axis=0)\n",
    "ee = cc.argsort()\n",
    "print(dd,'\\n',ee)"
   ]
  },
  {
   "cell_type": "markdown",
   "metadata": {},
   "source": [
    "### Polinomial operations"
   ]
  },
  {
   "cell_type": "code",
   "execution_count": 331,
   "metadata": {},
   "outputs": [
    {
     "data": {
      "text/plain": [
       "array([1, 4, 3])"
      ]
     },
     "execution_count": 331,
     "metadata": {},
     "output_type": "execute_result"
    }
   ],
   "source": [
    "p = np.poly1d([1,4,3])\n",
    "p.coefficients"
   ]
  },
  {
   "cell_type": "code",
   "execution_count": 364,
   "metadata": {},
   "outputs": [
    {
     "name": "stdout",
     "output_type": "stream",
     "text": [
      "[-0.45907349  1.25995778  0.24649403]\n",
      "         2\n",
      "-0.4591 x + 1.26 x + 0.2465\n"
     ]
    },
    {
     "data": {
      "text/plain": [
       "[<matplotlib.lines.Line2D at 0x1c64a5b2a90>,\n",
       " <matplotlib.lines.Line2D at 0x1c64a5b2ba8>]"
      ]
     },
     "execution_count": 364,
     "metadata": {},
     "output_type": "execute_result"
    },
    {
     "data": {
      "image/png": "[encoded data removed]",
      "text/plain": [
       "<matplotlib.figure.Figure at 0x1c64a5743c8>"
      ]
     },
     "metadata": {},
     "output_type": "display_data"
    }
   ],
   "source": [
    "num=10\n",
    "order=2\n",
    "\n",
    "x = np.linspace(0,1,num)\n",
    "y = np.sqrt(x) + 0.2*np.random.rand(num)\n",
    "coeff = np.polyfit(x,y,order)\n",
    "p = np.poly1d(coeff)\n",
    "print(coeff)\n",
    "print(p)\n",
    "\n",
    "t = np.linspace(0,1,200)\n",
    "plt.plot(x,y,'r.',t,p(t),'g-')"
   ]
  },
  {
   "cell_type": "markdown",
   "metadata": {},
   "source": [
    "### Monte Carlo ??? can't implement the painting. why are there so many square brackets..."
   ]
  },
  {
   "cell_type": "code",
   "execution_count": 477,
   "metadata": {},
   "outputs": [
    {
     "ename": "IndexError",
     "evalue": "index 1 is out of bounds for axis 0 with size 1",
     "output_type": "error",
     "traceback": [
      "\u001b[1;31m---------------------------------------------------------------------------\u001b[0m",
      "\u001b[1;31mIndexError\u001b[0m                                Traceback (most recent call last)",
      "\u001b[1;32m<ipython-input-477-28c63d8c9b7c>\u001b[0m in \u001b[0;36m<module>\u001b[1;34m()\u001b[0m\n\u001b[0;32m     17\u001b[0m \u001b[1;31m#    print(points[in_circle][i][1])\u001b[0m\u001b[1;33m\u001b[0m\u001b[1;33m\u001b[0m\u001b[0m\n\u001b[0;32m     18\u001b[0m \u001b[1;32mfor\u001b[0m \u001b[0mi\u001b[0m \u001b[1;32min\u001b[0m \u001b[0mrange\u001b[0m\u001b[1;33m(\u001b[0m\u001b[0mlen\u001b[0m\u001b[1;33m(\u001b[0m\u001b[0min_circle\u001b[0m\u001b[1;33m)\u001b[0m\u001b[1;33m)\u001b[0m\u001b[1;33m:\u001b[0m\u001b[1;33m\u001b[0m\u001b[0m\n\u001b[1;32m---> 19\u001b[1;33m     \u001b[0mprint\u001b[0m\u001b[1;33m(\u001b[0m\u001b[0mpoints\u001b[0m\u001b[1;33m[\u001b[0m\u001b[0min_circle\u001b[0m\u001b[1;33m]\u001b[0m\u001b[1;33m[\u001b[0m\u001b[0mi\u001b[0m\u001b[1;33m]\u001b[0m\u001b[1;33m[\u001b[0m\u001b[1;36m1\u001b[0m\u001b[1;33m]\u001b[0m\u001b[1;33m[\u001b[0m\u001b[0mi\u001b[0m\u001b[1;33m]\u001b[0m\u001b[1;33m)\u001b[0m\u001b[1;33m\u001b[0m\u001b[0m\n\u001b[0m\u001b[0;32m     20\u001b[0m \u001b[1;33m\u001b[0m\u001b[0m\n\u001b[0;32m     21\u001b[0m \u001b[1;31m#print(points[in_circle][0][0])\u001b[0m\u001b[1;33m\u001b[0m\u001b[1;33m\u001b[0m\u001b[0m\n",
      "\u001b[1;31mIndexError\u001b[0m: index 1 is out of bounds for axis 0 with size 1"
     ]
    }
   ],
   "source": [
    "num = 100\n",
    "\n",
    "points = (np.random.rand(100,2))\n",
    "points[1]\n",
    "distance=np.zeros(num)\n",
    "for i in range(num):\n",
    "    distance[i] = points[i][0]**2+points[i][1]\n",
    "distance\n",
    "\n",
    "in_circle = np.argwhere(distance<1)\n",
    "out_circle = np.argwhere(distance>1)\n",
    "\n",
    "#print(in_circle)\n",
    "#print(out_circle)\n",
    "#for i in range(num):\n",
    "#    print(points[in_circle][i][0])\n",
    "#    print(points[in_circle][i][1])\n",
    "for i in range(len(in_circle)):\n",
    "    print(points[in_circle][i][1][i])\n",
    "    \n",
    "#print(points[in_circle][0][0])\n",
    "#print(points[in_circle][12][0])\n",
    "\n",
    "#plt.plot(points[in_circle][0],points[in_circle][1])\n",
    "#plt.plot(points[out_circle][0],points[out_circle][1])"
   ]
  },
  {
   "cell_type": "code",
   "execution_count": 495,
   "metadata": {},
   "outputs": [],
   "source": [
    "aa = np.random.randint(0,100,(3,5))\n",
    "np.savetxt('aa.txt',aa)\n",
    "np.save('aa.npy',aa)"
   ]
  },
  {
   "cell_type": "code",
   "execution_count": 498,
   "metadata": {},
   "outputs": [
    {
     "data": {
      "text/plain": [
       "array([[63, 28, 34, 71, 56],\n",
       "       [91, 99, 17, 27, 44],\n",
       "       [ 5, 29, 85, 27, 59]])"
      ]
     },
     "execution_count": 498,
     "metadata": {},
     "output_type": "execute_result"
    }
   ],
   "source": [
    "bb = np.load('aa.npy')\n",
    "bb\n"
   ]
  },
  {
   "cell_type": "code",
   "execution_count": 500,
   "metadata": {},
   "outputs": [
    {
     "name": "stdout",
     "output_type": "stream",
     "text": [
      " 驱动器 E 中的卷是 新加卷\n",
      " 卷的序列号是 9A5D-A8BB\n",
      "\n",
      " E:\\Testfield 的目录\n",
      "\n",
      "2018-08-18  下午 10:44    <DIR>          .\n",
      "2018-08-18  下午 10:44    <DIR>          ..\n",
      "2018-08-18  下午 02:55    <DIR>          .ipynb_checkpoints\n",
      "2018-08-18  下午 10:44               188 aa.npy\n",
      "2018-08-18  下午 10:44               378 aa.txt\n",
      "2018-07-13  上午 11:54    <DIR>          arduino\n",
      "2018-07-18  上午 10:12             1,913 crawler.py\n",
      "2016-10-05  上午 12:07    <DIR>          crawler-master\n",
      "2018-08-15  下午 03:51            15,137 ipython_log.py\n",
      "2018-07-29  上午 09:09    <DIR>          MATLAB_bhw\n",
      "2018-08-04  下午 01:09    <DIR>          music_composing_20180729\n",
      "2018-08-18  下午 10:44            43,364 numpy_test.ipynb\n",
      "2018-07-12  上午 10:23    <DIR>          pyChat\n",
      "2018-07-15  下午 11:22    <DIR>          python\n",
      "2018-07-18  上午 02:02    <DIR>          QQGroupSpider-master\n",
      "2018-07-18  上午 01:25    <DIR>          qrcode-master\n",
      "2018-08-05  下午 04:02               177 test.py\n",
      "2018-08-15  下午 03:56            68,556 Untitled.ipynb\n",
      "2018-07-28  下午 11:36    <DIR>          upload\n",
      "2018-08-16  下午 09:07    <DIR>          新建文件夹\n",
      "2018-08-18  下午 08:53            72,802 闫耔岐.jpg\n",
      "               8 个文件        202,515 字节\n",
      "              13 个目录 27,989,143,552 可用字节\n"
     ]
    }
   ],
   "source": [
    "ls"
   ]
  }
 ],
 "metadata": {
  "kernelspec": {
   "display_name": "Python 3",
   "language": "python",
   "name": "python3"
  },
  "language_info": {
   "codemirror_mode": {
    "name": "ipython",
    "version": 3
   },
   "file_extension": ".py",
   "mimetype": "text/x-python",
   "name": "python",
   "nbconvert_exporter": "python",
   "pygments_lexer": "ipython3",
   "version": "3.6.4"
  }
 },
 "nbformat": 4,
 "nbformat_minor": 2
}
